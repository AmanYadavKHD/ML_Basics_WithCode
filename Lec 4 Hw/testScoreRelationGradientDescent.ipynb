{
 "cells": [
  {
   "cell_type": "code",
   "execution_count": 21,
   "id": "d146d328-e548-4022-acf6-d1e21cfbce58",
   "metadata": {},
   "outputs": [],
   "source": [
    "import pandas as pd\n",
    "import numpy as np\n",
    "import matplotlib.pyplot as plt\n",
    "import math as mp"
   ]
  },
  {
   "cell_type": "code",
   "execution_count": 22,
   "id": "ff18e6f4-b191-4b12-9701-c91bf3a329cf",
   "metadata": {},
   "outputs": [
    {
     "data": {
      "text/html": [
       "<div>\n",
       "<style scoped>\n",
       "    .dataframe tbody tr th:only-of-type {\n",
       "        vertical-align: middle;\n",
       "    }\n",
       "\n",
       "    .dataframe tbody tr th {\n",
       "        vertical-align: top;\n",
       "    }\n",
       "\n",
       "    .dataframe thead th {\n",
       "        text-align: right;\n",
       "    }\n",
       "</style>\n",
       "<table border=\"1\" class=\"dataframe\">\n",
       "  <thead>\n",
       "    <tr style=\"text-align: right;\">\n",
       "      <th></th>\n",
       "      <th>name</th>\n",
       "      <th>math</th>\n",
       "      <th>cs</th>\n",
       "    </tr>\n",
       "  </thead>\n",
       "  <tbody>\n",
       "    <tr>\n",
       "      <th>0</th>\n",
       "      <td>a</td>\n",
       "      <td>92</td>\n",
       "      <td>98</td>\n",
       "    </tr>\n",
       "    <tr>\n",
       "      <th>1</th>\n",
       "      <td>b</td>\n",
       "      <td>56</td>\n",
       "      <td>68</td>\n",
       "    </tr>\n",
       "    <tr>\n",
       "      <th>2</th>\n",
       "      <td>c</td>\n",
       "      <td>88</td>\n",
       "      <td>81</td>\n",
       "    </tr>\n",
       "    <tr>\n",
       "      <th>3</th>\n",
       "      <td>d</td>\n",
       "      <td>70</td>\n",
       "      <td>80</td>\n",
       "    </tr>\n",
       "    <tr>\n",
       "      <th>4</th>\n",
       "      <td>e</td>\n",
       "      <td>80</td>\n",
       "      <td>83</td>\n",
       "    </tr>\n",
       "    <tr>\n",
       "      <th>5</th>\n",
       "      <td>f</td>\n",
       "      <td>49</td>\n",
       "      <td>52</td>\n",
       "    </tr>\n",
       "    <tr>\n",
       "      <th>6</th>\n",
       "      <td>g</td>\n",
       "      <td>65</td>\n",
       "      <td>66</td>\n",
       "    </tr>\n",
       "    <tr>\n",
       "      <th>7</th>\n",
       "      <td>h</td>\n",
       "      <td>35</td>\n",
       "      <td>30</td>\n",
       "    </tr>\n",
       "    <tr>\n",
       "      <th>8</th>\n",
       "      <td>i</td>\n",
       "      <td>66</td>\n",
       "      <td>68</td>\n",
       "    </tr>\n",
       "    <tr>\n",
       "      <th>9</th>\n",
       "      <td>j</td>\n",
       "      <td>67</td>\n",
       "      <td>73</td>\n",
       "    </tr>\n",
       "  </tbody>\n",
       "</table>\n",
       "</div>"
      ],
      "text/plain": [
       "  name  math  cs\n",
       "0    a    92  98\n",
       "1    b    56  68\n",
       "2    c    88  81\n",
       "3    d    70  80\n",
       "4    e    80  83\n",
       "5    f    49  52\n",
       "6    g    65  66\n",
       "7    h    35  30\n",
       "8    i    66  68\n",
       "9    j    67  73"
      ]
     },
     "execution_count": 22,
     "metadata": {},
     "output_type": "execute_result"
    }
   ],
   "source": [
    "df = pd.read_csv(\"test_Scores.csv\")\n",
    "df"
   ]
  },
  {
   "cell_type": "code",
   "execution_count": 46,
   "id": "e475788e-d307-4123-ac4e-4299f6191279",
   "metadata": {},
   "outputs": [],
   "source": [
    "def gradient_descent(x,y):  #I have defined a function here.\n",
    "    m_curr=b_curr=0\n",
    "    iterations=1000000\n",
    "    n=len(x)\n",
    "    learning_rate=0.0002\n",
    "    prev_cost=0\n",
    "    \n",
    "    for i in range (iterations):\n",
    "        y_predicted=m_curr*x + b_curr\n",
    "        cost = (1/n) * sum([val**2 for val in (y - y_predicted)])\n",
    "        md= -(2/n)*sum(x*(y-y_predicted))  # derivative of cost with respect to m_curr\n",
    "        bd= -(2/n)*sum(y-y_predicted)      # derivative of cost with respect to b_curr\n",
    "        m_curr = m_curr- learning_rate*md\n",
    "        b_curr = b_curr- learning_rate*bd\n",
    "        \n",
    "        #print(\"m={}, b={}, cost={}, iterations={}\".format(m_curr,b_curr,cost,i))\n",
    "        if mp.isclose(prev_cost, cost, rel_tol=1e-09, abs_tol=0.0):\n",
    "           print(\" m={}, b={},cost={},iteration={}\".format(m_curr,b_curr,cost,i))\n",
    "           break\n",
    "        prev_cost = cost\n",
    "\n",
    "\n"
   ]
  },
  {
   "cell_type": "code",
   "execution_count": 47,
   "id": "d49f80b4-1cd0-406f-a717-a754be7cb2af",
   "metadata": {},
   "outputs": [
    {
     "name": "stdout",
     "output_type": "stream",
     "text": [
      " m=1.0192813318173286, b=1.8057225128259167,cost=31.605199637165665,iteration=124311\n"
     ]
    }
   ],
   "source": [
    "p = df.math\n",
    "q = df.cs\n",
    "gradient_descent(p,q)"
   ]
  },
  {
   "cell_type": "code",
   "execution_count": null,
   "id": "606c3840-2020-40e3-a317-af677db58ed2",
   "metadata": {},
   "outputs": [],
   "source": []
  }
 ],
 "metadata": {
  "kernelspec": {
   "display_name": "Python 3 (ipykernel)",
   "language": "python",
   "name": "python3"
  },
  "language_info": {
   "codemirror_mode": {
    "name": "ipython",
    "version": 3
   },
   "file_extension": ".py",
   "mimetype": "text/x-python",
   "name": "python",
   "nbconvert_exporter": "python",
   "pygments_lexer": "ipython3",
   "version": "3.12.1"
  }
 },
 "nbformat": 4,
 "nbformat_minor": 5
}
