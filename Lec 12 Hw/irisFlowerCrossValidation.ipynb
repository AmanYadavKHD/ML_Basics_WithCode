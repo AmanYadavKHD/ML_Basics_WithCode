{
 "cells": [
  {
   "cell_type": "code",
   "execution_count": 2,
   "id": "3297f8df-8f56-4711-8b8c-f2702e4cb610",
   "metadata": {},
   "outputs": [],
   "source": [
    "from sklearn.linear_model import LogisticRegression\n",
    "from sklearn.svm import SVC\n",
    "from sklearn.tree import DecisionTreeClassifier\n",
    "from sklearn.ensemble import RandomForestClassifier\n",
    "from sklearn.datasets import load_iris\n",
    "iris = load_iris()"
   ]
  },
  {
   "cell_type": "code",
   "execution_count": 3,
   "id": "bf992751-425e-45eb-b82c-5a9e0d0d4dad",
   "metadata": {},
   "outputs": [
    {
     "data": {
      "text/plain": [
       "['DESCR',\n",
       " 'data',\n",
       " 'data_module',\n",
       " 'feature_names',\n",
       " 'filename',\n",
       " 'frame',\n",
       " 'target',\n",
       " 'target_names']"
      ]
     },
     "execution_count": 3,
     "metadata": {},
     "output_type": "execute_result"
    }
   ],
   "source": [
    "dir(iris)"
   ]
  },
  {
   "cell_type": "code",
   "execution_count": 23,
   "id": "c35d7179-8e40-4bda-ae6a-dca007340229",
   "metadata": {},
   "outputs": [],
   "source": [
    "from sklearn.model_selection import cross_val_score\n",
    "import numpy as np"
   ]
  },
  {
   "cell_type": "code",
   "execution_count": 24,
   "id": "6cf56e63-78c5-48aa-8b7b-c976714b6509",
   "metadata": {},
   "outputs": [
    {
     "data": {
      "text/plain": [
       "0.9600000000000002"
      ]
     },
     "execution_count": 24,
     "metadata": {},
     "output_type": "execute_result"
    }
   ],
   "source": [
    "l_score = cross_val_score(LogisticRegression(solver='liblinear',multi_class='ovr'),iris.data,iris.target,cv=5)\n",
    "np.average(l_score)"
   ]
  },
  {
   "cell_type": "code",
   "execution_count": 25,
   "id": "912e352c-8cc5-4167-b8d4-2f50d32deace",
   "metadata": {},
   "outputs": [
    {
     "data": {
      "text/plain": [
       "0.9800000000000001"
      ]
     },
     "execution_count": 25,
     "metadata": {},
     "output_type": "execute_result"
    }
   ],
   "source": [
    "s_score = cross_val_score(SVC(gamma='auto'),iris.data,iris.target,cv=5)\n",
    "np.average(s_score)"
   ]
  },
  {
   "cell_type": "code",
   "execution_count": 26,
   "id": "e5624b39-f4b2-4c5b-9452-f990faacf6a2",
   "metadata": {},
   "outputs": [
    {
     "data": {
      "text/plain": [
       "0.9666666666666668"
      ]
     },
     "execution_count": 26,
     "metadata": {},
     "output_type": "execute_result"
    }
   ],
   "source": [
    "d_score = cross_val_score(DecisionTreeClassifier(),iris.data,iris.target,cv=5)\n",
    "np.average(d_score)"
   ]
  },
  {
   "cell_type": "code",
   "execution_count": 27,
   "id": "ddadd273-3d58-45a8-92ee-2fb047a92d9c",
   "metadata": {},
   "outputs": [
    {
     "data": {
      "text/plain": [
       "0.96"
      ]
     },
     "execution_count": 27,
     "metadata": {},
     "output_type": "execute_result"
    }
   ],
   "source": [
    "r_score = cross_val_score(RandomForestClassifier(n_estimators=10),iris.data,iris.target,cv=5)\n",
    "np.average(r_score)"
   ]
  },
  {
   "cell_type": "code",
   "execution_count": 28,
   "id": "390c5a5c-3783-4cd1-b67f-299acba87bb2",
   "metadata": {},
   "outputs": [],
   "source": [
    "#Clearly from above we can say that SVC is the best model for prediction of iris flower dataset."
   ]
  },
  {
   "cell_type": "code",
   "execution_count": null,
   "id": "9c0fca2d-0802-496b-8065-cf964b2d6ab2",
   "metadata": {},
   "outputs": [],
   "source": []
  }
 ],
 "metadata": {
  "kernelspec": {
   "display_name": "Python 3 (ipykernel)",
   "language": "python",
   "name": "python3"
  },
  "language_info": {
   "codemirror_mode": {
    "name": "ipython",
    "version": 3
   },
   "file_extension": ".py",
   "mimetype": "text/x-python",
   "name": "python",
   "nbconvert_exporter": "python",
   "pygments_lexer": "ipython3",
   "version": "3.12.1"
  }
 },
 "nbformat": 4,
 "nbformat_minor": 5
}
